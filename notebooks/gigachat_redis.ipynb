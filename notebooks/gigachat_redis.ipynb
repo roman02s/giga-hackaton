{
 "cells": [
  {
   "cell_type": "code",
   "execution_count": 1,
   "metadata": {},
   "outputs": [
    {
     "data": {
      "text/plain": [
       "True"
      ]
     },
     "execution_count": 1,
     "metadata": {},
     "output_type": "execute_result"
    }
   ],
   "source": [
    "\"\"\"Пример работы с чатом через gigachain\"\"\"\n",
    "import os\n",
    "\n",
    "import langchain\n",
    "from dotenv import load_dotenv\n",
    "from langchain.cache import RedisSemanticCache\n",
    "from langchain.chat_models.gigachat import GigaChat\n",
    "from langchain.schema import HumanMessage, SystemMessage\n",
    "from langchain_community.embeddings import GigaChatEmbeddings\n",
    "\n",
    "load_dotenv()"
   ]
  },
  {
   "cell_type": "code",
   "execution_count": 17,
   "metadata": {},
   "outputs": [],
   "source": [
    "# Авторизация в сервисе GigaChat\n",
    "chat = GigaChat(\n",
    "    credentials=os.getenv(\"GIGACHAT_API_TOKEN\"),\n",
    "    verify_ssl_certs=False,\n",
    "    scope=\"GIGACHAT_API_CORP\",\n",
    "    model=\"GigaChat-Pro\",\n",
    ")\n",
    "\n",
    "\n",
    "embeddings = GigaChatEmbeddings(\n",
    "    credentials=os.getenv(\"GIGACHAT_API_TOKEN\"),\n",
    "    verify_ssl_certs=False,\n",
    "    scope=\"GIGACHAT_API_CORP\",\n",
    "    model=\"Embeddings\",\n",
    ")\n",
    "\n",
    "\n",
    "langchain.llm_cache = RedisSemanticCache(\n",
    "    redis_url=\"redis://localhost:6379\",\n",
    "    embedding=embeddings,\n",
    "    score_threshold=0.01,\n",
    ")"
   ]
  },
  {
   "cell_type": "code",
   "execution_count": 18,
   "metadata": {},
   "outputs": [
    {
     "name": "stdout",
     "output_type": "stream",
     "text": [
      "Bot:  Берлин — столица Федеративной Республики Германия.\n"
     ]
    }
   ],
   "source": [
    "messages = [\n",
    "    SystemMessage(\n",
    "        content=\"Ты эмпатичный бот-психолог, который помогает пользователю решить его проблемы.\"\n",
    "    )\n",
    "]\n",
    "\n",
    "\n",
    "user_input = \"Столица Германии\"\n",
    "messages.append(HumanMessage(content=user_input))\n",
    "res = chat(messages)\n",
    "messages.append(res)\n",
    "print(\"Bot: \", res.content)"
   ]
  },
  {
   "cell_type": "code",
   "execution_count": 19,
   "metadata": {},
   "outputs": [
    {
     "name": "stdout",
     "output_type": "stream",
     "text": [
      "Bot:  Берлин — столица Федеративной Республики Германия.\n"
     ]
    }
   ],
   "source": [
    "messages = [\n",
    "    SystemMessage(\n",
    "        content=\"Ты эмпатичный бот-психолог, который помогает пользователю решить его проблемы.\"\n",
    "    )\n",
    "]\n",
    "\n",
    "\n",
    "user_input = \"Столица Германии\"\n",
    "messages.append(HumanMessage(content=user_input))\n",
    "res = chat(messages)\n",
    "messages.append(res)\n",
    "print(\"Bot: \", res.content)"
   ]
  },
  {
   "cell_type": "code",
   "execution_count": 21,
   "metadata": {},
   "outputs": [
    {
     "name": "stdout",
     "output_type": "stream",
     "text": [
      "Bot:  Вот простой рецепт приготовления халвы:\n",
      "\n",
      "Ингредиенты:\n",
      "- Семена подсолнечника — 2 стакана;\n",
      "- Мука пшеничная — 1,5 стакана;\n",
      "- Сахар — 1 стакан;\n",
      "- Вода — 1/4 стакана;\n",
      "- Масло растительное — 1/4 стакана;\n",
      "- Ванильный сахар — 1 чайная ложка.\n",
      "\n",
      "Приготовление:\n",
      "1. Обжарьте семечки на сухой сковороде до золотистого цвета и измельчите в блендере или кофемолке.\n",
      "2. На другой сковороде обжарьте муку до кремового цвета, постоянно помешивая, чтобы не подгорела.\n",
      "3. Смешайте измельченные семечки и обжаренную муку.\n",
      "4. В кастрюле смешайте воду, сахар и ванильный сахар. Доведите до кипения и варите на медленном огне до загустения сиропа (примерно 10 минут).\n",
      "5. Добавьте растительное масло в смесь семян и муки, хорошо перемешайте.\n",
      "6. Медленно влейте горячий сироп в смесь семян и муки, постоянно помешивая.\n",
      "7. Выложите полученную массу в форму, разровняйте поверхность и оставьте остывать.\n",
      "8. Когда халва полностью остынет, разрежьте ее на кусочки.\n",
      "\n",
      "Приятного аппетита!\n"
     ]
    }
   ],
   "source": [
    "messages = [\n",
    "    SystemMessage(\n",
    "        content=\"Ты эмпатичный бот-психолог, который помогает пользователю решить его проблемы.\"\n",
    "    )\n",
    "]\n",
    "\n",
    "\n",
    "user_input = \"Рецепт халвы\"\n",
    "messages.append(HumanMessage(content=user_input))\n",
    "res = chat(messages)\n",
    "messages.append(res)\n",
    "print(\"Bot: \", res.content)"
   ]
  },
  {
   "cell_type": "code",
   "execution_count": null,
   "metadata": {},
   "outputs": [],
   "source": []
  }
 ],
 "metadata": {
  "kernelspec": {
   "display_name": ".venv",
   "language": "python",
   "name": "python3"
  },
  "language_info": {
   "codemirror_mode": {
    "name": "ipython",
    "version": 3
   },
   "file_extension": ".py",
   "mimetype": "text/x-python",
   "name": "python",
   "nbconvert_exporter": "python",
   "pygments_lexer": "ipython3",
   "version": "3.10.11"
  }
 },
 "nbformat": 4,
 "nbformat_minor": 2
}
